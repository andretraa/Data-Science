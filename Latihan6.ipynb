{
 "cells": [
  {
   "cell_type": "code",
   "execution_count": 1,
   "metadata": {},
   "outputs": [],
   "source": [
    "import pandas as pd\n",
    "from sklearn.model_selection import train_test_split\n",
    "from sklearn.linear_model import LinearRegression\n",
    "from sklearn.ensemble import RandomForestRegressor, GradientBoostingRegressor\n",
    "from sklearn.svm import SVR\n",
    "from sklearn.neighbors import KNeighborsRegressor\n",
    "import pickle\n",
    "\n",
    "# Baca dataset\n",
    "data = pd.read_csv(\"fifa_players.csv\")\n",
    "\n",
    "# Pilih fitur dan target\n",
    "features = [\"height_cm\", \"weight_kgs\", \"crossing\", \"finishing\", \"heading_accuracy\", \"short_passing\"]\n",
    "target = \"overall_rating\"\n",
    "\n",
    "X = data[features]\n",
    "y = data[target]\n",
    "\n",
    "# Bagi data menjadi set pelatihan dan pengujian\n",
    "X_train, X_test, y_train, y_test = train_test_split(X, y, test_size=0.2, random_state=42)\n",
    "\n",
    "# Inisialisasi model\n",
    "linear_model = LinearRegression()\n",
    "rf_model = RandomForestRegressor()\n",
    "svm_model = SVR()\n",
    "knn_model = KNeighborsRegressor()\n",
    "gb_model = GradientBoostingRegressor()\n",
    "\n",
    "# Latih model\n",
    "linear_model.fit(X_train, y_train)\n",
    "rf_model.fit(X_train, y_train)\n",
    "svm_model.fit(X_train, y_train)\n",
    "knn_model.fit(X_train, y_train)\n",
    "gb_model.fit(X_train, y_train)\n",
    "\n",
    "# Simpan model ke file\n",
    "pickle.dump(linear_model, open(\"linear_model.pkl\", \"wb\"))\n",
    "pickle.dump(rf_model, open(\"rf_model.pkl\", \"wb\"))\n",
    "pickle.dump(svm_model, open(\"svm_model.pkl\", \"wb\"))\n",
    "pickle.dump(knn_model, open(\"knn_model.pkl\", \"wb\"))\n",
    "pickle.dump(gb_model, open(\"gb_model.pkl\", \"wb\"))\n"
   ]
  }
 ],
 "metadata": {
  "kernelspec": {
   "display_name": "Python 3",
   "language": "python",
   "name": "python3"
  },
  "language_info": {
   "codemirror_mode": {
    "name": "ipython",
    "version": 3
   },
   "file_extension": ".py",
   "mimetype": "text/x-python",
   "name": "python",
   "nbconvert_exporter": "python",
   "pygments_lexer": "ipython3",
   "version": "3.11.0"
  }
 },
 "nbformat": 4,
 "nbformat_minor": 2
}
